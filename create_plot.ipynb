{
 "cells": [
  {
   "cell_type": "markdown",
   "metadata": {},
   "source": [
    "# Plot creation"
   ]
  },
  {
   "cell_type": "code",
   "execution_count": null,
   "metadata": {
    "collapsed": true
   },
   "outputs": [],
   "source": [
    "import pandas as pd\n",
    "import matplotlib.pyplot as plt\n",
    "from sklearn import linear_model\n",
    "import numpy as np\n",
    "\n",
    "%matplotlib inline"
   ]
  },
  {
   "cell_type": "code",
   "execution_count": null,
   "metadata": {
    "collapsed": true
   },
   "outputs": [],
   "source": [
    "def plot_scatter_and_regression(x, y, label, color):\n",
    "    plt.scatter(x, np.log10(y), label=label, color=color)\n",
    "    if label.startswith('top'):\n",
    "        plt.text(np.min(x) - len(label)*0.7, np.min(np.log10(y)) + 0.5, label, color=color, fontsize=16)\n",
    "    elif label.startswith('nvidia'):\n",
    "        plt.text(x[10]  + 0.5, np.log10(y)[10] - 0.75, label, color=color, fontsize=16)\n",
    "    else:\n",
    "        plt.text(np.min(x)  + 0.5, np.min(np.log10(y)) - 0.5, label, color=color, fontsize=16)\n",
    "    regr = linear_model.LinearRegression()\n",
    "    regr.fit(np.expand_dims(x, axis=1),  np.log10(y))\n",
    "    x = [np.min(x), np.max(x) + 10]\n",
    "    y = regr.predict(np.expand_dims(x, axis=1))\n",
    "    plt.plot(x, y, color=color)"
   ]
  },
  {
   "cell_type": "code",
   "execution_count": null,
   "metadata": {
    "collapsed": true
   },
   "outputs": [],
   "source": [
    "def plot_top500():\n",
    "    df = pd.read_csv('top500.csv')\n",
    "\n",
    "    x = df.date\n",
    "    y = df.top1\n",
    "    plot_scatter_and_regression(x, y, label='top1 supercomputer', color='C0')\n",
    "\n",
    "    x = df.date\n",
    "    y = df.top500_sum\n",
    "    plot_scatter_and_regression(x, y, label='top500 supercomputer sum', color='C1')"
   ]
  },
  {
   "cell_type": "code",
   "execution_count": null,
   "metadata": {
    "collapsed": true
   },
   "outputs": [],
   "source": [
    "def plot_nvidia(use_seaborn=True):\n",
    "    df = pd.read_csv('nvidia.csv')\n",
    "\n",
    "    x = df.date.values\n",
    "    y = df.flops.values\n",
    "    plot_scatter_and_regression(x, y, label='nvidia gpu', color='C2')"
   ]
  },
  {
   "cell_type": "code",
   "execution_count": null,
   "metadata": {
    "collapsed": true
   },
   "outputs": [],
   "source": [
    "def plot_moravec():\n",
    "    df = pd.read_csv('moravec.tsv', sep='\\t')\n",
    "    df = df.loc[35:]\n",
    "    \n",
    "    x = df[df['1997k$'] < 20].Year\n",
    "    y = df[df['1997k$'] < 20].MIPS*1e6\n",
    "    plot_scatter_and_regression(x, y, label='moravec', color='C3')\n",
    "    \n",
    "    x = df[df['1997k$'] > 1000].Year\n",
    "    y = df[df['1997k$'] > 1000].MIPS*1e6\n",
    "    plot_scatter_and_regression(x, y, label='moravec_supercomputers', color='C4')"
   ]
  },
  {
   "cell_type": "code",
   "execution_count": null,
   "metadata": {
    "collapsed": true
   },
   "outputs": [],
   "source": [
    "def add_scales_text():\n",
    "    x = 2031\n",
    "    y = np.linspace(3, 21, 7)\n",
    "    labels = ['kilo', 'mega', 'giga', 'tera', 'peta', 'hexa', 'zetta']\n",
    "    for label, y_value in zip(labels, y):\n",
    "        plt.text(x, y_value, label.title(), fontsize=16)"
   ]
  },
  {
   "cell_type": "code",
   "execution_count": null,
   "metadata": {},
   "outputs": [],
   "source": [
    "def add_pictures_overlay():\n",
    "    plot_kwargs = dict(resample=True, aspect='auto')\n",
    "\n",
    "    img = plt.imread('media/homo_sapiens.jpg')\n",
    "    plt.imshow(img, extent=(1963, 1970, 16, 20), **plot_kwargs)\n",
    "\n",
    "    img = plt.imread('media/monkey.jpg')\n",
    "    plt.imshow(img, extent=(1964, 1969, 13, 16), **plot_kwargs)\n",
    "\n",
    "    img = plt.imread('media/mouse.jpg')\n",
    "    plt.imshow(img, extent=(1963, 1970, 10.5, 12.5), **plot_kwargs)\n",
    "\n",
    "    img = plt.imread('media/guppy.png')\n",
    "    plt.imshow(img, extent=(1963, 1970, 8, 10), **plot_kwargs)\n"
   ]
  },
  {
   "cell_type": "code",
   "execution_count": null,
   "metadata": {
    "collapsed": true
   },
   "outputs": [],
   "source": [
    "def create_plot():\n",
    "    plt.figure(figsize=(16.6667, 10))\n",
    "    plt.suptitle('     Evolution of computer power over time', fontsize=24)\n",
    "    subtitle = 'How the computing power (FLOPs) has evolved over time for different hardware.'\n",
    "    subtitle += '\\n The images of animals are estimates of the computing power of its brains.'\n",
    "    plt.title(subtitle, fontsize=16)\n",
    "    plot_top500()\n",
    "    plot_nvidia()\n",
    "    plot_moravec()\n",
    "    plt.grid(which='major', linewidth=2, alpha=0.5)\n",
    "    plt.grid(which='minor', linewidth=1, alpha=0.5)\n",
    "    plt.ylim(3, 21)\n",
    "    plt.xlim(1960, 2030)\n",
    "    plt.xlabel('year', fontsize=16)\n",
    "    plt.ylabel('log10 FLOPs', fontsize=16)\n",
    "    plt.xticks(np.arange(1960, 2031, 10), fontsize=16)\n",
    "    plt.xticks(np.arange(1965, 2031, 10), minor=True)\n",
    "    plt.yticks(np.linspace(3, 21, 7), fontsize=16)\n",
    "    plt.yticks(np.arange(3, 21), minor=True)\n",
    "    add_scales_text()\n",
    "    add_pictures_overlay()\n",
    "    plt.savefig('figure.png', dpi=300, facecolor='white', transparent=False)"
   ]
  },
  {
   "cell_type": "code",
   "execution_count": null,
   "metadata": {},
   "outputs": [],
   "source": [
    "create_plot()"
   ]
  }
 ],
 "metadata": {
  "kernelspec": {
   "display_name": "tino_tf24",
   "language": "python",
   "name": "python3"
  },
  "language_info": {
   "codemirror_mode": {
    "name": "ipython",
    "version": 3
   },
   "file_extension": ".py",
   "mimetype": "text/x-python",
   "name": "python",
   "nbconvert_exporter": "python",
   "pygments_lexer": "ipython3",
   "version": "3.10.10"
  }
 },
 "nbformat": 4,
 "nbformat_minor": 2
}
